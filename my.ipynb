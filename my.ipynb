{
 "cells": [
  {
   "cell_type": "code",
   "execution_count": null,
   "metadata": {},
   "outputs": [],
   "source": [
    "import pandas as pd\n",
    "import sqlalchemy\n",
    "import pymongo\n",
    "import numpy as np"
   ]
  },
  {
   "cell_type": "code",
   "execution_count": null,
   "metadata": {},
   "outputs": [],
   "source": [
    "username = 'postgres'\n",
    "password = 'postgres'\n",
    "database = 'test'\n",
    "host = 'localhost'  # or your database hostd\n",
    "port = '5432'  # default MySQL port"
   ]
  },
  {
   "cell_type": "code",
   "execution_count": null,
   "metadata": {},
   "outputs": [],
   "source": [
    "engine = sqlalchemy.create_engine(f'postgresql://{username}:{password}@{host}:{port}/{database}')\n",
    "conn = engine.raw_connection()\n",
    "conn"
   ]
  },
  {
   "cell_type": "code",
   "execution_count": null,
   "metadata": {},
   "outputs": [],
   "source": [
    "df1 = pd.read_sql('SELECT * FROM план;',conn)\n",
    "df2 = pd.read_sql('SELECT * FROM туризм;',conn)"
   ]
  },
  {
   "cell_type": "code",
   "execution_count": null,
   "metadata": {},
   "outputs": [],
   "source": [
    "myclient = pymongo.MongoClient(\"mongodb://localhost:27017/\")\n",
    "mydb = myclient[\"test\"]"
   ]
  },
  {
   "cell_type": "code",
   "execution_count": null,
   "metadata": {},
   "outputs": [],
   "source": [
    "n = mydb.list_collection_names()[1]\n",
    "df3 = pd.DataFrame(list(mydb[n].find()))"
   ]
  },
  {
   "cell_type": "code",
   "execution_count": null,
   "metadata": {},
   "outputs": [],
   "source": [
    "n = mydb.list_collection_names()[2]\n",
    "df4 = pd.DataFrame(list(mydb[n].find()))"
   ]
  },
  {
   "cell_type": "code",
   "execution_count": null,
   "metadata": {},
   "outputs": [],
   "source": [
    "keys = ['план','туризм','факт','статистика']\n",
    "data = {}"
   ]
  },
  {
   "cell_type": "code",
   "execution_count": null,
   "metadata": {},
   "outputs": [],
   "source": [
    "data['план'] = df1\n",
    "data['туризм'] = df2\n",
    "data['факт'] = df3\n",
    "data['статистика'] = df4"
   ]
  },
  {
   "cell_type": "code",
   "execution_count": null,
   "metadata": {},
   "outputs": [],
   "source": [
    "#df1.to_sql('план', con=engine, if_exists='replace', index=False)\n",
    "#df2.to_sql('туризм', con=engine, if_exists='replace', index=False)\n",
    "#df3.to_sql('факт', con=engine, if_exists='replace', index=False)\n",
    "#df4.to_sql('статистика', con=engine, if_exists='replace', index=False)"
   ]
  },
  {
   "cell_type": "code",
   "execution_count": null,
   "metadata": {},
   "outputs": [],
   "source": [
    "#myclient = pymongo.MongoClient(\"mongodb://localhost:27017/\")\n",
    "#n_db = myclient[\"main_db\"]\n",
    "#myclient.drop_database(\"main_db\")\n",
    "#\n",
    "#n_db['план'].insert_many(df1.to_dict(orient=\"records\"))\n",
    "#n_db['туризм'].insert_many(df2.to_dict(orient=\"records\"))\n",
    "#n_db['факт'].insert_many(df3.to_dict(orient=\"records\"))\n",
    "#n_db['статистика'].insert_many(df4.to_dict(orient=\"records\"))\n",
    "#\n",
    "#for key in keys:\n",
    "#    data[key] = pd.DataFrame(list(n_db[key].find()))"
   ]
  },
  {
   "cell_type": "code",
   "execution_count": null,
   "metadata": {},
   "outputs": [],
   "source": [
    "#for key in keys:\n",
    "#   data[key] = pd.read_sql(f'SELECT * FROM {key};',conn)"
   ]
  },
  {
   "cell_type": "code",
   "execution_count": null,
   "metadata": {},
   "outputs": [],
   "source": [
    "for key in keys:\n",
    "    print(key, data[key].isna().sum().sum())"
   ]
  },
  {
   "cell_type": "code",
   "execution_count": null,
   "metadata": {},
   "outputs": [],
   "source": [
    "for key in keys:\n",
    "    print(key, data[key].duplicated().sum())"
   ]
  },
  {
   "cell_type": "code",
   "execution_count": null,
   "metadata": {},
   "outputs": [],
   "source": [
    "#data['план'] = data['план'].drop_duplicates()"
   ]
  },
  {
   "cell_type": "code",
   "execution_count": null,
   "metadata": {},
   "outputs": [],
   "source": [
    "data['факт'].drop(columns = ['_id'],inplace = True)\n",
    "data['статистика'].drop(columns = ['_id',''],inplace = True)"
   ]
  },
  {
   "cell_type": "code",
   "execution_count": null,
   "metadata": {},
   "outputs": [],
   "source": [
    "data['туризм'].drop_duplicates(inplace = True)"
   ]
  },
  {
   "cell_type": "code",
   "execution_count": null,
   "metadata": {},
   "outputs": [],
   "source": [
    "data['туризм']"
   ]
  },
  {
   "cell_type": "code",
   "execution_count": null,
   "metadata": {},
   "outputs": [],
   "source": [
    "data['туризм'].isna().sum()"
   ]
  },
  {
   "cell_type": "code",
   "execution_count": null,
   "metadata": {},
   "outputs": [],
   "source": [
    "data['туризм'].drop(columns = ['заголовок','тип_автора','место_публикации','возраст','просмотров','место','цитируемость_сми','пол','страна','регион','город'],inplace = True)# удаление столбиков"
   ]
  },
  {
   "cell_type": "code",
   "execution_count": null,
   "metadata": {},
   "outputs": [],
   "source": [
    "data['туризм'].dropna(subset = ['язык','обработанныи_текст_лемматизация_и'], inplace = True)# удаление пропусков в строках"
   ]
  },
  {
   "cell_type": "code",
   "execution_count": null,
   "metadata": {},
   "outputs": [],
   "source": [
    "username = 'postgres'\n",
    "password = 'postgres'\n",
    "database = 'main_db'\n",
    "host = 'localhost'  # or your database host\n",
    "port = '5432'  # default MySQL port\n",
    "engine = sqlalchemy.create_engine(f'postgresql://{username}:{password}@{host}:{port}/{database}')"
   ]
  },
  {
   "cell_type": "code",
   "execution_count": null,
   "metadata": {},
   "outputs": [],
   "source": [
    "for key in keys:\n",
    "    data[key].to_sql(key, con=engine, if_exists='replace', index=False)\n",
    "    print(key,'finished') "
   ]
  }
 ],
 "metadata": {
  "kernelspec": {
   "display_name": "my_venv",
   "language": "python",
   "name": "python3"
  },
  "language_info": {
   "codemirror_mode": {
    "name": "ipython",
    "version": 3
   },
   "file_extension": ".py",
   "mimetype": "text/x-python",
   "name": "python",
   "nbconvert_exporter": "python",
   "pygments_lexer": "ipython3",
   "version": "3.12.3"
  }
 },
 "nbformat": 4,
 "nbformat_minor": 2
}
